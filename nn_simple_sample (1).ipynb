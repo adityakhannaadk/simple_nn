{
  "nbformat": 4,
  "nbformat_minor": 0,
  "metadata": {
    "colab": {
      "name": "nn_simple_sample.ipynb",
      "version": "0.3.2",
      "provenance": [],
      "collapsed_sections": []
    },
    "kernelspec": {
      "name": "python3",
      "display_name": "Python 3"
    }
  },
  "cells": [
    {
      "metadata": {
        "id": "nPwylWeorBBt",
        "colab_type": "code",
        "colab": {}
      },
      "cell_type": "code",
      "source": [
        "from numpy import random\n",
        "from numpy import dot\n",
        "from numpy import array\n",
        "import numpy as np\n",
        "import math"
      ],
      "execution_count": 0,
      "outputs": []
    },
    {
      "metadata": {
        "id": "iC4ComkHKgBB",
        "colab_type": "text"
      },
      "cell_type": "markdown",
      "source": [
        "These are the imports which we will be using. Numpy is the only library we need."
      ]
    },
    {
      "metadata": {
        "id": "fYzQX4JwrKzE",
        "colab_type": "code",
        "colab": {}
      },
      "cell_type": "code",
      "source": [
        "class network():\n",
        "    def __init__(self):\n",
        "        random.seed(1)\n",
        "        self.synaptic_weights = 2 * random.random((3, 1)) - 1\n",
        "    #Neural net sigmoid functions    \n",
        "    def sigmoid(self, x):\n",
        "      return 1 /(1+(math.e**-x))\n",
        "\n",
        "    def sigmoid_(self, x):\n",
        "        return x * (1 - x)\n",
        "\n",
        "    def train(self, In, Out, iterations):\n",
        "        for iteration in range(iterations):\n",
        "            output = self.process(In)\n",
        "            error = Out - output\n",
        "            adjustment = dot(In.T, error * self.sigmoid_(output))\n",
        "\n",
        "\n",
        "            self.synaptic_weights += adjustment\n",
        "\n",
        "\n",
        "    def process(self, inputs):\n",
        "        return self.sigmoid(dot(inputs, self.synaptic_weights))"
      ],
      "execution_count": 0,
      "outputs": []
    },
    {
      "metadata": {
        "id": "MojV-uR4KwbS",
        "colab_type": "text"
      },
      "cell_type": "markdown",
      "source": [
        "Here we define the class. Along with this we add the sigmoif functions and the training function. The sigmoid is our activation function, this means that squashes the value to one between 0 and 1 so it is compatible with our neural network.![image](https://storage.googleapis.com/replit/images/1549395992253_331949db1c8052c158c9d2f50de6c1c0.pn) \n",
        "\n",
        "The synaptic weights are the values that are adjusted in the neural network. When training for the number of iterations, it is adjusted based upon the loss (error)."
      ]
    },
    {
      "metadata": {
        "id": "FurPeSPMrLOk",
        "colab_type": "code",
        "colab": {}
      },
      "cell_type": "code",
      "source": [
        "def train_net(p1,p2,p3):\n",
        "  cheating_classify = network()\n",
        "  average_classify = network()\n",
        "  notrevising_classify = network()  \n",
        "  training_labels_cheating_In = array([[10, 10, 10], [10, 9, 9], [9, 9, 9], [10,9,10],[9, 10, 9],[10,8,9]])\n",
        "  training_labels_cheating_Out = array([[1, 1, 0, 1,0, 0]]).T\n",
        "   # Training:\n",
        "  cheating_classify.train(training_labels_cheating_In, training_labels_cheating_Out, 10000)\n",
        "  return(cheating_classify.process(array([p1,p2,p3])))"
      ],
      "execution_count": 0,
      "outputs": []
    },
    {
      "metadata": {
        "id": "LkCUrYojRnOf",
        "colab_type": "text"
      },
      "cell_type": "markdown",
      "source": [
        "To give a bit of context to explain this code sample, the scenario we are focusing on is a class of three students. Student 1 (in this code, called p1) is the brightest, student 2 is less bright than student 1 and student 3 is less bright that student 2. You are trying to classify whether they are cheating, doing average or totally failing (i.e. not revising at all). This neural network has been trained on whether the students have been cheating or not."
      ]
    },
    {
      "metadata": {
        "id": "VgFiR_T6rVtW",
        "colab_type": "code",
        "outputId": "355d1df4-9447-4cd2-c65d-50ee32d28e0a",
        "colab": {
          "base_uri": "https://localhost:8080/",
          "height": 35
        }
      },
      "cell_type": "code",
      "source": [
        "print(train_net(8,9,10))"
      ],
      "execution_count": 35,
      "outputs": [
        {
          "output_type": "stream",
          "text": [
            "[0.99999991]\n"
          ],
          "name": "stdout"
        }
      ]
    },
    {
      "metadata": {
        "id": "5wCU9d7KSzDo",
        "colab_type": "text"
      },
      "cell_type": "markdown",
      "source": [
        "Here we are testing our neural network. It is rather unexpected for the least brightest student to get the highest mark and with an overall high average, a uman would classify this as cheating. After running the cell, you should have gotten a value between 0 and 1. A value which is higher shows that it is more likely to be true and one that is lower shows one that is less likely to be true."
      ]
    },
    {
      "metadata": {
        "id": "YVWOm1rErjc-",
        "colab_type": "code",
        "colab": {
          "base_uri": "https://localhost:8080/",
          "height": 35
        },
        "outputId": "4b9fffac-5f1e-4db7-8023-eac365621d84"
      },
      "cell_type": "code",
      "source": [
        "print(train_net(8,5,1))"
      ],
      "execution_count": 36,
      "outputs": [
        {
          "output_type": "stream",
          "text": [
            "[0.00076284]\n"
          ],
          "name": "stdout"
        }
      ]
    },
    {
      "metadata": {
        "id": "Rhr0xkAHTWGg",
        "colab_type": "text"
      },
      "cell_type": "markdown",
      "source": [
        "As you can see, a human would classify a marksheet like this to be expected from a class so the probability of cheating should really be rather low, which if you run the code cell is true."
      ]
    },
    {
      "metadata": {
        "id": "x8oS4256TTu2",
        "colab_type": "code",
        "colab": {}
      },
      "cell_type": "code",
      "source": [
        ""
      ],
      "execution_count": 0,
      "outputs": []
    }
  ]
}